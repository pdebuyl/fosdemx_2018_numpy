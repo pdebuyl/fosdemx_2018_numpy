{
 "cells": [
  {
   "cell_type": "markdown",
   "metadata": {
    "slideshow": {
     "slide_type": "slide"
    }
   },
   "source": [
    "## Python for Science\n",
    "\n",
    "**Author:** Pierre de Buyl  \n",
    "http://pdebuyl.be/ [@pdebuyl](https://twitter.com/pdebuyl) [@pdebuyl](https://github.com/pdebuyl)\n",
    "\n",
    "- FWO postdoctoral fellow at KU Leuven\n",
    "- Physicist, uses Python since about 10 years\n",
    "- [EuroSciPy](https://www.euroscipy.org/) / [Scipy Lecture Notes](http://www.scipy-lectures.org/)\n"
   ]
  },
  {
   "cell_type": "markdown",
   "metadata": {
    "slideshow": {
     "slide_type": "slide"
    }
   },
   "source": [
    "### Mathematics, arrays and programming\n",
    "\n",
    "- Python has a standard library for mathematics, that provides access to the\n",
    "  C math library: [`math`](https://docs.python.org/3/library/math.html)\n",
    "- One of the reasons of Python's popularity in science comes from a standardized\n",
    "  type for *arrays*, NumPy's `np.ndarray`\n",
    "- Also: Python can easily call C or Fortran code, Python is open-source (thus free to install on your computer).\n"
   ]
  },
  {
   "cell_type": "markdown",
   "metadata": {
    "slideshow": {
     "slide_type": "slide"
    }
   },
   "source": [
    "### This workshop\n",
    "\n",
    "- Provide an overview of how Python is useful in science.\n",
    "- Get started by working through a few examples.\n",
    "- Open your notebook and execute the cell below by typing `Shift + Enter`."
   ]
  },
  {
   "cell_type": "code",
   "execution_count": null,
   "metadata": {
    "slideshow": {
     "slide_type": "-"
    }
   },
   "outputs": [],
   "source": [
    "%matplotlib notebook\n",
    "import numpy as np\n",
    "import matplotlib.pyplot as plt"
   ]
  },
  {
   "cell_type": "markdown",
   "metadata": {
    "slideshow": {
     "slide_type": "slide"
    }
   },
   "source": [
    "### Math with arrays\n",
    "\n",
    "- An array is a \"container\" for numerical values.\n",
    "- NumPy performs operations on arrays element-wise.\n",
    "- `a = 2*x` multiplies every element by two."
   ]
  },
  {
   "cell_type": "code",
   "execution_count": null,
   "metadata": {},
   "outputs": [],
   "source": [
    "a = np.arange(10)\n",
    "print(a)\n",
    "print(2*a)\n",
    "b = np.arange(49).reshape((7,7))"
   ]
  },
  {
   "cell_type": "markdown",
   "metadata": {
    "slideshow": {
     "slide_type": "slide"
    }
   },
   "source": [
    "### Features of NumPy\n",
    "\n",
    "- Array data type\n",
    "- Mathematical functions (basic operations, trigonometric functions, floor, etc)\n",
    "- Linear algebra\n",
    "- Random numbers\n",
    "- Fourier transforms"
   ]
  },
  {
   "cell_type": "code",
   "execution_count": null,
   "metadata": {
    "slideshow": {
     "slide_type": "slide"
    }
   },
   "outputs": [],
   "source": [
    "print(a.dtype)\n",
    "print(a.ndim)\n",
    "print(a.shape)\n",
    "print(a.nbytes)\n",
    "print(a.flags)\n",
    "print(a.data)"
   ]
  },
  {
   "cell_type": "markdown",
   "metadata": {
    "slideshow": {
     "slide_type": "slide"
    }
   },
   "source": [
    "### Array indexing\n",
    "\n",
    "- `a[i:j]` skips the i first elements and goes up to j-1\n",
    "- `b[k,l]` returns the element from the (k-1)-th row, (l-1)-th column"
   ]
  },
  {
   "cell_type": "code",
   "execution_count": null,
   "metadata": {},
   "outputs": [],
   "source": [
    "print(a[2:5])\n",
    "print(b[3,2])"
   ]
  },
  {
   "cell_type": "markdown",
   "metadata": {
    "slideshow": {
     "slide_type": "slide"
    }
   },
   "source": [
    "## Array multiplication\n",
    "\n",
    "- NumPy provides basic linear algebra routines\n",
    "- Array multiplication supports the `@` operator"
   ]
  },
  {
   "cell_type": "code",
   "execution_count": null,
   "metadata": {
    "scrolled": true
   },
   "outputs": [],
   "source": [
    "rotation_matrix = np.array([[0, -1], [-1, 0]])\n",
    "unit_x = np.array([1, 0])\n",
    "print(rotation_matrix @ unit_x)"
   ]
  },
  {
   "cell_type": "markdown",
   "metadata": {
    "slideshow": {
     "slide_type": "slide"
    }
   },
   "source": [
    "### Loading data\n",
    "\n",
    "- Temperature records from the Climatic Research Unit of the University of East Anglia\n",
    "- Link to data collection: https://crudata.uea.ac.uk/cru/data/hrg/cru_ts_3.23/crucy.1506241137.v3.23/"
   ]
  },
  {
   "cell_type": "code",
   "execution_count": null,
   "metadata": {},
   "outputs": [],
   "source": [
    "!wget https://crudata.uea.ac.uk/cru/data/hrg/cru_ts_3.23/crucy.1506241137.v3.23/countries/tmp/crucy.v3.23.1901.2014.Belgium.tmp.per"
   ]
  },
  {
   "cell_type": "code",
   "execution_count": null,
   "metadata": {
    "slideshow": {
     "slide_type": "slide"
    }
   },
   "outputs": [],
   "source": [
    "ls"
   ]
  },
  {
   "cell_type": "code",
   "execution_count": null,
   "metadata": {},
   "outputs": [],
   "source": [
    "!head crucy.v3.23.1901.2014.Belgium.tmp.per"
   ]
  },
  {
   "cell_type": "code",
   "execution_count": null,
   "metadata": {},
   "outputs": [],
   "source": [
    "# Exercise: load the relevant columns of data and rearrange the data in a 1D array\n",
    "temperature_data = np.loadtxt?"
   ]
  },
  {
   "cell_type": "code",
   "execution_count": null,
   "metadata": {},
   "outputs": [],
   "source": [
    "temperature_data = np.loadtxt"
   ]
  },
  {
   "cell_type": "code",
   "execution_count": null,
   "metadata": {},
   "outputs": [],
   "source": []
  },
  {
   "cell_type": "markdown",
   "metadata": {
    "slideshow": {
     "slide_type": "slide"
    }
   },
   "source": [
    "### Fitting data\n",
    "\n",
    "- Common task in science.\n",
    "- Several possibilities:\n",
    "  - Use `np.polyfit` for polynomial fitting.\n",
    "  - Use `scipy.optimize.leastsq` for least square fitting\n",
    "- **Exercise:** Using the data data x and y, find the slope of the curve.\n",
    "- **First action:** look up the help for `np.polyfit` with the built-in help: type `np.polyfit?`"
   ]
  },
  {
   "cell_type": "code",
   "execution_count": null,
   "metadata": {},
   "outputs": [],
   "source": [
    "x = np.linspace(0, 5, 21)\n",
    "y = 3.5*x - 2 + np.random.normal(size=x.shape)*2"
   ]
  },
  {
   "cell_type": "code",
   "execution_count": null,
   "metadata": {},
   "outputs": [],
   "source": [
    "plt.plot(x, y)\n",
    "fit = np.polyfit?\n"
   ]
  },
  {
   "cell_type": "markdown",
   "metadata": {},
   "source": [
    "### A game of dice\n",
    "\n",
    "- Example of a Markov process defined on a discrete set of states.\n",
    "- Board game: throw a dice at every step and move forward accordingly.\n",
    "- Loosely inspired by a [blog post](http://jakevdp.github.io/blog/2017/12/18/simulating-chutes-and-ladders/) by Jake Vanderplas"
   ]
  },
  {
   "cell_type": "code",
   "execution_count": null,
   "metadata": {},
   "outputs": [],
   "source": [
    "game_length = 20 ; dice_size = 6\n",
    "transition = np.zeros((game_length+1, game_length+1))\n",
    "for i in range(game_length):\n",
    "    max_idx = min(i+1+dice_size, game_length)\n",
    "    transition[i+1:max_idx,i] = 1/dice_size\n",
    "    print(i, i+1+dice_size, max_idx, (i+1+dice_size)-(game_length))\n",
    "    if i>game_length-dice_size-1:\n",
    "        transition[-1,i] += (i+1+dice_size-game_length)/dice_size"
   ]
  },
  {
   "cell_type": "code",
   "execution_count": null,
   "metadata": {},
   "outputs": [],
   "source": [
    "plt.figure()\n",
    "plt.imshow(transition)\n",
    "plt.colorbar()"
   ]
  },
  {
   "cell_type": "code",
   "execution_count": null,
   "metadata": {},
   "outputs": [],
   "source": [
    "transition.sum(axis=0)"
   ]
  },
  {
   "cell_type": "code",
   "execution_count": null,
   "metadata": {},
   "outputs": [],
   "source": [
    "v0 = np.zeros(game_length+1)\n",
    "v0[0] = 1"
   ]
  },
  {
   "cell_type": "code",
   "execution_count": null,
   "metadata": {},
   "outputs": [],
   "source": [
    "v = v0.copy()\n",
    "data = [v]\n",
    "for i in range(10):\n",
    "    v = transition @ v # REMOVE\n",
    "    data.append(v)\n",
    "data = np.array(data)"
   ]
  },
  {
   "cell_type": "code",
   "execution_count": null,
   "metadata": {},
   "outputs": [],
   "source": [
    "plt.figure()\n",
    "plt.plot(data.sum(axis=1))\n",
    "plt.axvline(0)\n",
    "plt.axvline(4)"
   ]
  },
  {
   "cell_type": "code",
   "execution_count": null,
   "metadata": {},
   "outputs": [],
   "source": []
  },
  {
   "cell_type": "code",
   "execution_count": null,
   "metadata": {},
   "outputs": [],
   "source": []
  },
  {
   "cell_type": "markdown",
   "metadata": {
    "slideshow": {
     "slide_type": "slide"
    }
   },
   "source": [
    "### Exercise: image data"
   ]
  },
  {
   "cell_type": "code",
   "execution_count": null,
   "metadata": {},
   "outputs": [],
   "source": [
    "# import data from scipy\n",
    "from scipy import misc\n",
    "f = misc.face(gray=True)"
   ]
  },
  {
   "cell_type": "code",
   "execution_count": null,
   "metadata": {
    "slideshow": {
     "slide_type": "slide"
    }
   },
   "outputs": [],
   "source": [
    "plt.figure()\n",
    "plt.imshow(f, cmap=plt.cm.gray)"
   ]
  },
  {
   "cell_type": "code",
   "execution_count": null,
   "metadata": {
    "slideshow": {
     "slide_type": "slide"
    }
   },
   "outputs": [],
   "source": [
    "plt.figure()\n",
    "plt.hist(f.flatten(), bins=32);\n"
   ]
  },
  {
   "cell_type": "code",
   "execution_count": null,
   "metadata": {
    "slideshow": {
     "slide_type": "slide"
    }
   },
   "outputs": [],
   "source": [
    "lx, ly = f.shape\n",
    "X, Y = np.ogrid[0:lx, 0:ly]\n",
    "\n",
    "mask = (X<100) + (Y<20)\n",
    "g = f.copy()\n",
    "g[mask] = 255\n",
    "plt.figure()\n",
    "plt.imshow(g, cmap=plt.cm.gray)"
   ]
  },
  {
   "cell_type": "code",
   "execution_count": null,
   "metadata": {},
   "outputs": [],
   "source": [
    "g = f.copy()\n",
    "\n",
    "g[1:-1,1:-1] += 0.1*(g[:-2,-1:1]+g[2:,-1:1]"
   ]
  }
 ],
 "metadata": {
  "celltoolbar": "Slideshow",
  "kernelspec": {
   "display_name": "Python 3",
   "language": "python",
   "name": "python3"
  },
  "language_info": {
   "codemirror_mode": {
    "name": "ipython",
    "version": 3
   },
   "file_extension": ".py",
   "mimetype": "text/x-python",
   "name": "python",
   "nbconvert_exporter": "python",
   "pygments_lexer": "ipython3",
   "version": "3.6.4"
  }
 },
 "nbformat": 4,
 "nbformat_minor": 2
}
